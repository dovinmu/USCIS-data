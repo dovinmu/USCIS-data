{
 "cells": [
  {
   "cell_type": "code",
   "execution_count": 1,
   "metadata": {},
   "outputs": [],
   "source": [
    "import pandas"
   ]
  },
  {
   "cell_type": "code",
   "execution_count": 21,
   "metadata": {},
   "outputs": [],
   "source": [
    "q_sheet_to_name = {\n",
    "    \"fy2019_q4\": \"FY 2019, 4th Q, July 1- Sept. 30, 2019\",\n",
    "    \"fy2019_q3\": \"FY 2019, 3rd Q, April 1 - June 30, 2019\",\n",
    "    \"fy2020_q1\": \"FY 2020, 1st Q, Oct. 1 - Dec. 31, 2019\"\n",
    "}"
   ]
  },
  {
   "cell_type": "code",
   "execution_count": 39,
   "metadata": {},
   "outputs": [
    {
     "data": {
      "text/html": [
       "<div>\n",
       "<style scoped>\n",
       "    .dataframe tbody tr th:only-of-type {\n",
       "        vertical-align: middle;\n",
       "    }\n",
       "\n",
       "    .dataframe tbody tr th {\n",
       "        vertical-align: top;\n",
       "    }\n",
       "\n",
       "    .dataframe thead th {\n",
       "        text-align: right;\n",
       "    }\n",
       "</style>\n",
       "<table border=\"1\" class=\"dataframe\">\n",
       "  <thead>\n",
       "    <tr style=\"text-align: right;\">\n",
       "      <th></th>\n",
       "      <th>state</th>\n",
       "      <th>field_office</th>\n",
       "      <th>code</th>\n",
       "      <th>Field Office by State6</th>\n",
       "      <th>Field Office Code</th>\n",
       "      <th>Applications Received2</th>\n",
       "      <th>Approved3</th>\n",
       "      <th>Denied4</th>\n",
       "      <th>Pending5</th>\n",
       "      <th>quarter</th>\n",
       "      <th>year</th>\n",
       "      <th>fy</th>\n",
       "    </tr>\n",
       "  </thead>\n",
       "  <tbody>\n",
       "    <tr>\n",
       "      <th>3</th>\n",
       "      <td>Alaska</td>\n",
       "      <td>Anchorage</td>\n",
       "      <td>ANC</td>\n",
       "      <td>334</td>\n",
       "      <td>391</td>\n",
       "      <td>101</td>\n",
       "      <td>403</td>\n",
       "      <td>12</td>\n",
       "      <td>12</td>\n",
       "      <td>FY 2019, 4th Q, July 1- Sept. 30, 2019</td>\n",
       "      <td>2019</td>\n",
       "      <td>FY 2019</td>\n",
       "    </tr>\n",
       "    <tr>\n",
       "      <th>77</th>\n",
       "      <td>Nevada</td>\n",
       "      <td>Las Vegas</td>\n",
       "      <td>LVG</td>\n",
       "      <td>2238</td>\n",
       "      <td>3131</td>\n",
       "      <td>347</td>\n",
       "      <td>9039</td>\n",
       "      <td>D</td>\n",
       "      <td>D</td>\n",
       "      <td>FY 2020, 1st Q, Oct. 1 - Dec. 31, 2019</td>\n",
       "      <td>2019</td>\n",
       "      <td>FY 2020</td>\n",
       "    </tr>\n",
       "    <tr>\n",
       "      <th>191</th>\n",
       "      <td>South Africa</td>\n",
       "      <td>Johannesburg</td>\n",
       "      <td>NaN</td>\n",
       "      <td>NaN</td>\n",
       "      <td>NaN</td>\n",
       "      <td>NaN</td>\n",
       "      <td>NaN</td>\n",
       "      <td>-</td>\n",
       "      <td>-</td>\n",
       "      <td>FY 2019, 4th Q, July 1- Sept. 30, 2019</td>\n",
       "      <td>2019</td>\n",
       "      <td>FY 2019</td>\n",
       "    </tr>\n",
       "  </tbody>\n",
       "</table>\n",
       "</div>"
      ],
      "text/plain": [
       "            state  field_office code Field Office by State6 Field Office Code  \\\n",
       "3          Alaska     Anchorage  ANC                    334               391   \n",
       "77         Nevada     Las Vegas  LVG                   2238              3131   \n",
       "191  South Africa  Johannesburg  NaN                    NaN               NaN   \n",
       "\n",
       "    Applications Received2 Approved3 Denied4 Pending5  \\\n",
       "3                      101       403      12       12   \n",
       "77                     347      9039       D        D   \n",
       "191                    NaN       NaN       -        -   \n",
       "\n",
       "                                    quarter  year       fy  \n",
       "3    FY 2019, 4th Q, July 1- Sept. 30, 2019  2019  FY 2019  \n",
       "77   FY 2020, 1st Q, Oct. 1 - Dec. 31, 2019  2019  FY 2020  \n",
       "191  FY 2019, 4th Q, July 1- Sept. 30, 2019  2019  FY 2019  "
      ]
     },
     "execution_count": 39,
     "metadata": {},
     "output_type": "execute_result"
    }
   ],
   "source": [
    "dfs = []\n",
    "for sheet_name, quarter in q_sheet_to_name.items():\n",
    "    df = pandas.read_excel('data/USCIS/Naturalizations by field office.xlsx', sheet_name=sheet_name, \n",
    "                           skiprows=8, usecols=\"A:I\")\n",
    "    df.columns = ['state', 'field_office', 'code', 'Field Office by State6', 'Field Office Code', \n",
    "                  'Applications Received2', 'Approved3', 'Denied4', 'Pending5']\n",
    "\n",
    "    df['state'] = df[df.columns[0]].fillna(axis=0, method='ffill').map(lambda name: name.strip() if type(name) == str else float('nan'))\n",
    "    df = df.rename(columns={'Unnamed: 1':\"field_office\"})\n",
    "    df['field_office'] = df.field_office.map(lambda name: name.strip() if type(name) == str else float('nan'))\n",
    "    df['quarter'] = quarter\n",
    "    df['year'] = df.quarter.map(lambda q: q[-4:])\n",
    "    df['fy'] = df.quarter.map(lambda q: q.split(',')[0])\n",
    "    df.rename(columns={'Unnamed: 2':'code'}, inplace=True)\n",
    "    df['code'] = df['code'].map(lambda code: code.strip() if type(code) == str else float('nan'))\n",
    "    \n",
    "    dfs.append(df.dropna(subset=['field_office']))\n",
    "pandas.concat(dfs).sample(3)"
   ]
  },
  {
   "cell_type": "code",
   "execution_count": 44,
   "metadata": {},
   "outputs": [
    {
     "data": {
      "text/html": [
       "<div>\n",
       "<style scoped>\n",
       "    .dataframe tbody tr th:only-of-type {\n",
       "        vertical-align: middle;\n",
       "    }\n",
       "\n",
       "    .dataframe tbody tr th {\n",
       "        vertical-align: top;\n",
       "    }\n",
       "\n",
       "    .dataframe thead th {\n",
       "        text-align: right;\n",
       "    }\n",
       "</style>\n",
       "<table border=\"1\" class=\"dataframe\">\n",
       "  <thead>\n",
       "    <tr style=\"text-align: right;\">\n",
       "      <th></th>\n",
       "      <th>field_office</th>\n",
       "      <th>Applications Received2</th>\n",
       "      <th>Approved3</th>\n",
       "      <th>Denied4</th>\n",
       "      <th>Pending5</th>\n",
       "      <th>quarter</th>\n",
       "      <th>state</th>\n",
       "      <th>code</th>\n",
       "      <th>fy</th>\n",
       "    </tr>\n",
       "  </thead>\n",
       "  <tbody>\n",
       "    <tr>\n",
       "      <th>143</th>\n",
       "      <td>San Juan</td>\n",
       "      <td>66</td>\n",
       "      <td>1142</td>\n",
       "      <td>D</td>\n",
       "      <td>-</td>\n",
       "      <td>FY 2019, 4th Q, July 1- Sept. 30, 2019</td>\n",
       "      <td>Puerto Rico</td>\n",
       "      <td>SAJ</td>\n",
       "      <td>FY 2019</td>\n",
       "    </tr>\n",
       "    <tr>\n",
       "      <th>169</th>\n",
       "      <td>Guatemala City</td>\n",
       "      <td>NaN</td>\n",
       "      <td>NaN</td>\n",
       "      <td>-</td>\n",
       "      <td>-</td>\n",
       "      <td>FY 2019, 4th Q, July 1- Sept. 30, 2019</td>\n",
       "      <td>Guatemala</td>\n",
       "      <td>NaN</td>\n",
       "      <td>FY 2019</td>\n",
       "    </tr>\n",
       "    <tr>\n",
       "      <th>179</th>\n",
       "      <td>Nairobi</td>\n",
       "      <td>NaN</td>\n",
       "      <td>NaN</td>\n",
       "      <td>-</td>\n",
       "      <td>-</td>\n",
       "      <td>FY 2020, 1st Q, Oct. 1 - Dec. 31, 2019</td>\n",
       "      <td>Kenya</td>\n",
       "      <td>NaN</td>\n",
       "      <td>FY 2020</td>\n",
       "    </tr>\n",
       "  </tbody>\n",
       "</table>\n",
       "</div>"
      ],
      "text/plain": [
       "       field_office Applications Received2 Approved3 Denied4 Pending5  \\\n",
       "143        San Juan                     66      1142       D        -   \n",
       "169  Guatemala City                    NaN       NaN       -        -   \n",
       "179         Nairobi                    NaN       NaN       -        -   \n",
       "\n",
       "                                    quarter        state code       fy  \n",
       "143  FY 2019, 4th Q, July 1- Sept. 30, 2019  Puerto Rico  SAJ  FY 2019  \n",
       "169  FY 2019, 4th Q, July 1- Sept. 30, 2019    Guatemala  NaN  FY 2019  \n",
       "179  FY 2020, 1st Q, Oct. 1 - Dec. 31, 2019        Kenya  NaN  FY 2020  "
      ]
     },
     "execution_count": 44,
     "metadata": {},
     "output_type": "execute_result"
    }
   ],
   "source": [
    "new_data = pandas.concat(dfs)[['field_office',  'Applications Received2', 'Approved3', \n",
    "                    'Denied4', 'Pending5', 'quarter', 'state', 'code', 'fy']]\n",
    "new_data.sample(3)"
   ]
  },
  {
   "cell_type": "code",
   "execution_count": 45,
   "metadata": {},
   "outputs": [],
   "source": [
    "master_df = pandas.read_csv('data/master_df.csv', index_col=0)"
   ]
  },
  {
   "cell_type": "code",
   "execution_count": 46,
   "metadata": {},
   "outputs": [
    {
     "data": {
      "text/html": [
       "<div>\n",
       "<style scoped>\n",
       "    .dataframe tbody tr th:only-of-type {\n",
       "        vertical-align: middle;\n",
       "    }\n",
       "\n",
       "    .dataframe tbody tr th {\n",
       "        vertical-align: top;\n",
       "    }\n",
       "\n",
       "    .dataframe thead th {\n",
       "        text-align: right;\n",
       "    }\n",
       "</style>\n",
       "<table border=\"1\" class=\"dataframe\">\n",
       "  <thead>\n",
       "    <tr style=\"text-align: right;\">\n",
       "      <th></th>\n",
       "      <th>field_office</th>\n",
       "      <th>Applications Received2</th>\n",
       "      <th>Approved3</th>\n",
       "      <th>Denied4</th>\n",
       "      <th>Pending5</th>\n",
       "      <th>quarter</th>\n",
       "      <th>state</th>\n",
       "      <th>code</th>\n",
       "      <th>year</th>\n",
       "      <th>fy</th>\n",
       "    </tr>\n",
       "  </thead>\n",
       "  <tbody>\n",
       "    <tr>\n",
       "      <th>359</th>\n",
       "      <td>Athens</td>\n",
       "      <td>NaN</td>\n",
       "      <td>NaN</td>\n",
       "      <td>NaN</td>\n",
       "      <td>NaN</td>\n",
       "      <td>FY 2017, 1st Q, Oct. 1-Dec. 31, 2016</td>\n",
       "      <td>Greece</td>\n",
       "      <td>NaN</td>\n",
       "      <td>2016</td>\n",
       "      <td>FY 2017</td>\n",
       "    </tr>\n",
       "    <tr>\n",
       "      <th>229</th>\n",
       "      <td>Greer</td>\n",
       "      <td>374</td>\n",
       "      <td>457</td>\n",
       "      <td>38</td>\n",
       "      <td>773</td>\n",
       "      <td>FY 2017, 4th Q, July 1-Sept. 30, 2017</td>\n",
       "      <td>South Carolina</td>\n",
       "      <td>GRR</td>\n",
       "      <td>2017</td>\n",
       "      <td>FY 2017</td>\n",
       "    </tr>\n",
       "    <tr>\n",
       "      <th>117</th>\n",
       "      <td>New Orleans</td>\n",
       "      <td>1,262</td>\n",
       "      <td>951</td>\n",
       "      <td>63</td>\n",
       "      <td>2,155</td>\n",
       "      <td>FY 2016, 3rd Q, April 1-June 30, 2016</td>\n",
       "      <td>Louisiana</td>\n",
       "      <td>NOL</td>\n",
       "      <td>2016</td>\n",
       "      <td>FY 2016</td>\n",
       "    </tr>\n",
       "  </tbody>\n",
       "</table>\n",
       "</div>"
      ],
      "text/plain": [
       "    field_office Applications Received2 Approved3 Denied4 Pending5  \\\n",
       "359       Athens                    NaN       NaN     NaN      NaN   \n",
       "229        Greer                    374       457      38      773   \n",
       "117  New Orleans                  1,262       951      63    2,155   \n",
       "\n",
       "                                   quarter           state code  year       fy  \n",
       "359   FY 2017, 1st Q, Oct. 1-Dec. 31, 2016          Greece  NaN  2016  FY 2017  \n",
       "229  FY 2017, 4th Q, July 1-Sept. 30, 2017  South Carolina  GRR  2017  FY 2017  \n",
       "117  FY 2016, 3rd Q, April 1-June 30, 2016       Louisiana  NOL  2016  FY 2016  "
      ]
     },
     "execution_count": 46,
     "metadata": {},
     "output_type": "execute_result"
    }
   ],
   "source": [
    "master_df.sample(3)"
   ]
  },
  {
   "cell_type": "code",
   "execution_count": 50,
   "metadata": {},
   "outputs": [],
   "source": [
    "new_master = pandas.concat([master_df, new_data])"
   ]
  },
  {
   "cell_type": "code",
   "execution_count": 51,
   "metadata": {},
   "outputs": [
    {
     "data": {
      "text/plain": [
       "(2288, 324, 2612)"
      ]
     },
     "execution_count": 51,
     "metadata": {},
     "output_type": "execute_result"
    }
   ],
   "source": [
    "len(master_df), len(new_data), len(new_master)"
   ]
  },
  {
   "cell_type": "code",
   "execution_count": 52,
   "metadata": {},
   "outputs": [],
   "source": [
    "new_master.to_csv('data/master_df.csv')"
   ]
  }
 ],
 "metadata": {
  "kernelspec": {
   "display_name": "Python 3",
   "language": "python",
   "name": "python3"
  },
  "language_info": {
   "codemirror_mode": {
    "name": "ipython",
    "version": 3
   },
   "file_extension": ".py",
   "mimetype": "text/x-python",
   "name": "python",
   "nbconvert_exporter": "python",
   "pygments_lexer": "ipython3",
   "version": "3.7.4"
  }
 },
 "nbformat": 4,
 "nbformat_minor": 4
}
