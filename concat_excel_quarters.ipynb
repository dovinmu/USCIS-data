{
 "cells": [
  {
   "cell_type": "code",
   "execution_count": 1,
   "metadata": {},
   "outputs": [],
   "source": [
    "import pandas"
   ]
  },
  {
   "cell_type": "code",
   "execution_count": 2,
   "metadata": {},
   "outputs": [],
   "source": [
    "q_sheet_to_name = {\n",
    "    \"fy2019_q4\": \"FY 2019, 4th Q, July 1- Sept. 30, 2019\",\n",
    "    \"fy2019_q3\": \"FY 2019, 3rd Q, April 1 - June 30, 2019\",\n",
    "    \"fy2020_q1\": \"FY 2020, 1st Q, Oct. 1 - Dec. 31, 2019\"\n",
    "}"
   ]
  },
  {
   "cell_type": "code",
   "execution_count": 3,
   "metadata": {},
   "outputs": [
    {
     "data": {
      "text/html": [
       "<div>\n",
       "<style scoped>\n",
       "    .dataframe tbody tr th:only-of-type {\n",
       "        vertical-align: middle;\n",
       "    }\n",
       "\n",
       "    .dataframe tbody tr th {\n",
       "        vertical-align: top;\n",
       "    }\n",
       "\n",
       "    .dataframe thead th {\n",
       "        text-align: right;\n",
       "    }\n",
       "</style>\n",
       "<table border=\"1\" class=\"dataframe\">\n",
       "  <thead>\n",
       "    <tr style=\"text-align: right;\">\n",
       "      <th></th>\n",
       "      <th>state</th>\n",
       "      <th>field_office</th>\n",
       "      <th>code</th>\n",
       "      <th>Field Office by State6</th>\n",
       "      <th>Field Office Code</th>\n",
       "      <th>Applications Received2</th>\n",
       "      <th>Approved3</th>\n",
       "      <th>Denied4</th>\n",
       "      <th>Pending5</th>\n",
       "      <th>quarter</th>\n",
       "      <th>year</th>\n",
       "      <th>fy</th>\n",
       "    </tr>\n",
       "  </thead>\n",
       "  <tbody>\n",
       "    <tr>\n",
       "      <th>78</th>\n",
       "      <td>Nevada</td>\n",
       "      <td>Reno</td>\n",
       "      <td>REN</td>\n",
       "      <td>388</td>\n",
       "      <td>354</td>\n",
       "      <td>20</td>\n",
       "      <td>539</td>\n",
       "      <td>D</td>\n",
       "      <td>-</td>\n",
       "      <td>FY 2019, 4th Q, July 1- Sept. 30, 2019</td>\n",
       "      <td>2019</td>\n",
       "      <td>FY 2019</td>\n",
       "    </tr>\n",
       "    <tr>\n",
       "      <th>141</th>\n",
       "      <td>U.S. Virgin Islands</td>\n",
       "      <td>Charlotte Amalie</td>\n",
       "      <td>CHA</td>\n",
       "      <td>NaN</td>\n",
       "      <td>NaN</td>\n",
       "      <td>NaN</td>\n",
       "      <td>NaN</td>\n",
       "      <td>NaN</td>\n",
       "      <td>NaN</td>\n",
       "      <td>FY 2019, 3rd Q, April 1 - June 30, 2019</td>\n",
       "      <td>2019</td>\n",
       "      <td>FY 2019</td>\n",
       "    </tr>\n",
       "    <tr>\n",
       "      <th>110</th>\n",
       "      <td>South Carolina</td>\n",
       "      <td>Charleston</td>\n",
       "      <td>CHL</td>\n",
       "      <td>663</td>\n",
       "      <td>813</td>\n",
       "      <td>58</td>\n",
       "      <td>1157</td>\n",
       "      <td>24</td>\n",
       "      <td>26</td>\n",
       "      <td>FY 2020, 1st Q, Oct. 1 - Dec. 31, 2019</td>\n",
       "      <td>2019</td>\n",
       "      <td>FY 2020</td>\n",
       "    </tr>\n",
       "  </tbody>\n",
       "</table>\n",
       "</div>"
      ],
      "text/plain": [
       "                   state      field_office code Field Office by State6  \\\n",
       "78                Nevada              Reno  REN                    388   \n",
       "141  U.S. Virgin Islands  Charlotte Amalie  CHA                    NaN   \n",
       "110       South Carolina        Charleston  CHL                    663   \n",
       "\n",
       "    Field Office Code Applications Received2 Approved3 Denied4 Pending5  \\\n",
       "78                354                     20       539       D        -   \n",
       "141               NaN                    NaN       NaN     NaN      NaN   \n",
       "110               813                     58      1157      24       26   \n",
       "\n",
       "                                     quarter  year       fy  \n",
       "78    FY 2019, 4th Q, July 1- Sept. 30, 2019  2019  FY 2019  \n",
       "141  FY 2019, 3rd Q, April 1 - June 30, 2019  2019  FY 2019  \n",
       "110   FY 2020, 1st Q, Oct. 1 - Dec. 31, 2019  2019  FY 2020  "
      ]
     },
     "execution_count": 3,
     "metadata": {},
     "output_type": "execute_result"
    }
   ],
   "source": [
    "dfs = []\n",
    "for sheet_name, quarter in q_sheet_to_name.items():\n",
    "    df = pandas.read_excel('data/USCIS/Naturalizations by field office.xlsx', sheet_name=sheet_name, \n",
    "                           skiprows=8, usecols=\"A:I\")\n",
    "    df.columns = ['state', 'field_office', 'code', 'Field Office by State6', 'Field Office Code', \n",
    "                  'Applications Received2', 'Approved3', 'Denied4', 'Pending5']\n",
    "\n",
    "    df['state'] = df[df.columns[0]].fillna(axis=0, method='ffill').map(lambda name: name.strip() if type(name) == str else float('nan'))\n",
    "    df = df.rename(columns={'Unnamed: 1':\"field_office\"})\n",
    "    df['field_office'] = df.field_office.map(lambda name: name.strip() if type(name) == str else float('nan'))\n",
    "    df['quarter'] = quarter\n",
    "    df['year'] = df.quarter.map(lambda q: q[-4:])\n",
    "    df['fy'] = df.quarter.map(lambda q: q.split(',')[0])\n",
    "    df.rename(columns={'Unnamed: 2':'code'}, inplace=True)\n",
    "    df['code'] = df['code'].map(lambda code: code.strip() if type(code) == str else float('nan'))\n",
    "    \n",
    "    dfs.append(df.dropna(subset=['field_office']))\n",
    "pandas.concat(dfs).sample(3)"
   ]
  },
  {
   "cell_type": "code",
   "execution_count": 4,
   "metadata": {},
   "outputs": [
    {
     "data": {
      "text/html": [
       "<div>\n",
       "<style scoped>\n",
       "    .dataframe tbody tr th:only-of-type {\n",
       "        vertical-align: middle;\n",
       "    }\n",
       "\n",
       "    .dataframe tbody tr th {\n",
       "        vertical-align: top;\n",
       "    }\n",
       "\n",
       "    .dataframe thead th {\n",
       "        text-align: right;\n",
       "    }\n",
       "</style>\n",
       "<table border=\"1\" class=\"dataframe\">\n",
       "  <thead>\n",
       "    <tr style=\"text-align: right;\">\n",
       "      <th></th>\n",
       "      <th>field_office</th>\n",
       "      <th>Applications Received2</th>\n",
       "      <th>Approved3</th>\n",
       "      <th>Denied4</th>\n",
       "      <th>Pending5</th>\n",
       "      <th>quarter</th>\n",
       "      <th>state</th>\n",
       "      <th>code</th>\n",
       "      <th>fy</th>\n",
       "    </tr>\n",
       "  </thead>\n",
       "  <tbody>\n",
       "    <tr>\n",
       "      <th>141</th>\n",
       "      <td>Charlotte Amalie</td>\n",
       "      <td>NaN</td>\n",
       "      <td>NaN</td>\n",
       "      <td>NaN</td>\n",
       "      <td>NaN</td>\n",
       "      <td>FY 2019, 3rd Q, April 1 - June 30, 2019</td>\n",
       "      <td>U.S. Virgin Islands</td>\n",
       "      <td>CHA</td>\n",
       "      <td>FY 2019</td>\n",
       "    </tr>\n",
       "    <tr>\n",
       "      <th>36</th>\n",
       "      <td>Oakland Park</td>\n",
       "      <td>415</td>\n",
       "      <td>10180</td>\n",
       "      <td>D</td>\n",
       "      <td>D</td>\n",
       "      <td>FY 2020, 1st Q, Oct. 1 - Dec. 31, 2019</td>\n",
       "      <td>Florida</td>\n",
       "      <td>OKL</td>\n",
       "      <td>FY 2020</td>\n",
       "    </tr>\n",
       "    <tr>\n",
       "      <th>10</th>\n",
       "      <td>Chula Vista</td>\n",
       "      <td>-</td>\n",
       "      <td>-</td>\n",
       "      <td>-</td>\n",
       "      <td>-</td>\n",
       "      <td>FY 2020, 1st Q, Oct. 1 - Dec. 31, 2019</td>\n",
       "      <td>California</td>\n",
       "      <td>CVC</td>\n",
       "      <td>FY 2020</td>\n",
       "    </tr>\n",
       "  </tbody>\n",
       "</table>\n",
       "</div>"
      ],
      "text/plain": [
       "         field_office Applications Received2 Approved3 Denied4 Pending5  \\\n",
       "141  Charlotte Amalie                    NaN       NaN     NaN      NaN   \n",
       "36       Oakland Park                    415     10180       D        D   \n",
       "10        Chula Vista                      -         -       -        -   \n",
       "\n",
       "                                     quarter                state code  \\\n",
       "141  FY 2019, 3rd Q, April 1 - June 30, 2019  U.S. Virgin Islands  CHA   \n",
       "36    FY 2020, 1st Q, Oct. 1 - Dec. 31, 2019              Florida  OKL   \n",
       "10    FY 2020, 1st Q, Oct. 1 - Dec. 31, 2019           California  CVC   \n",
       "\n",
       "          fy  \n",
       "141  FY 2019  \n",
       "36   FY 2020  \n",
       "10   FY 2020  "
      ]
     },
     "execution_count": 4,
     "metadata": {},
     "output_type": "execute_result"
    }
   ],
   "source": [
    "new_data = pandas.concat(dfs)[['field_office',  'Applications Received2', 'Approved3', \n",
    "                    'Denied4', 'Pending5', 'quarter', 'state', 'code', 'fy']]\n",
    "new_data.sample(3)"
   ]
  },
  {
   "cell_type": "code",
   "execution_count": 5,
   "metadata": {},
   "outputs": [],
   "source": [
    "def try_convert(val):\n",
    "    try:\n",
    "        return float(val)\n",
    "    except:\n",
    "        return float(0)\n",
    "for col_name in ['Applications Received2', 'Approved3', 'Denied4', 'Pending5']:\n",
    "    new_data[col_name] = new_data[col_name].map(lambda val: try_convert(val))"
   ]
  },
  {
   "cell_type": "code",
   "execution_count": 6,
   "metadata": {},
   "outputs": [],
   "source": [
    "master_df = pandas.read_csv('data/master_df.csv', index_col=0)"
   ]
  },
  {
   "cell_type": "code",
   "execution_count": 7,
   "metadata": {},
   "outputs": [
    {
     "data": {
      "text/html": [
       "<div>\n",
       "<style scoped>\n",
       "    .dataframe tbody tr th:only-of-type {\n",
       "        vertical-align: middle;\n",
       "    }\n",
       "\n",
       "    .dataframe tbody tr th {\n",
       "        vertical-align: top;\n",
       "    }\n",
       "\n",
       "    .dataframe thead th {\n",
       "        text-align: right;\n",
       "    }\n",
       "</style>\n",
       "<table border=\"1\" class=\"dataframe\">\n",
       "  <thead>\n",
       "    <tr style=\"text-align: right;\">\n",
       "      <th></th>\n",
       "      <th>field_office</th>\n",
       "      <th>Applications Received2</th>\n",
       "      <th>Approved3</th>\n",
       "      <th>Denied4</th>\n",
       "      <th>Pending5</th>\n",
       "      <th>quarter</th>\n",
       "      <th>state</th>\n",
       "      <th>code</th>\n",
       "      <th>year</th>\n",
       "      <th>fy</th>\n",
       "    </tr>\n",
       "  </thead>\n",
       "  <tbody>\n",
       "    <tr>\n",
       "      <th>45</th>\n",
       "      <td>San Jose</td>\n",
       "      <td>4419.0</td>\n",
       "      <td>3367.0</td>\n",
       "      <td>285.0</td>\n",
       "      <td>5804.0</td>\n",
       "      <td>FY 2014, 3rd Q, April 1-June 30, 2014</td>\n",
       "      <td>California</td>\n",
       "      <td>SNJ</td>\n",
       "      <td>2014.0</td>\n",
       "      <td>FY 2014</td>\n",
       "    </tr>\n",
       "    <tr>\n",
       "      <th>67</th>\n",
       "      <td>Fort Meyers</td>\n",
       "      <td>1203.0</td>\n",
       "      <td>382.0</td>\n",
       "      <td>20.0</td>\n",
       "      <td>2202.0</td>\n",
       "      <td>FY 2017, 1st Q, Oct. 1-Dec. 31, 2016</td>\n",
       "      <td>Florida</td>\n",
       "      <td>OFM</td>\n",
       "      <td>2016.0</td>\n",
       "      <td>FY 2017</td>\n",
       "    </tr>\n",
       "    <tr>\n",
       "      <th>81</th>\n",
       "      <td>Orlando</td>\n",
       "      <td>2739.0</td>\n",
       "      <td>2939.0</td>\n",
       "      <td>511.0</td>\n",
       "      <td>9121.0</td>\n",
       "      <td>FY 2019, 2nd Q, Jan. 1-Mar. 31, 2019</td>\n",
       "      <td>Florida</td>\n",
       "      <td>ORL</td>\n",
       "      <td>2019.0</td>\n",
       "      <td>FY 2019</td>\n",
       "    </tr>\n",
       "  </tbody>\n",
       "</table>\n",
       "</div>"
      ],
      "text/plain": [
       "   field_office  Applications Received2  Approved3  Denied4  Pending5  \\\n",
       "45     San Jose                  4419.0     3367.0    285.0    5804.0   \n",
       "67  Fort Meyers                  1203.0      382.0     20.0    2202.0   \n",
       "81      Orlando                  2739.0     2939.0    511.0    9121.0   \n",
       "\n",
       "                                  quarter       state code    year       fy  \n",
       "45  FY 2014, 3rd Q, April 1-June 30, 2014  California  SNJ  2014.0  FY 2014  \n",
       "67   FY 2017, 1st Q, Oct. 1-Dec. 31, 2016     Florida  OFM  2016.0  FY 2017  \n",
       "81   FY 2019, 2nd Q, Jan. 1-Mar. 31, 2019     Florida  ORL  2019.0  FY 2019  "
      ]
     },
     "execution_count": 7,
     "metadata": {},
     "output_type": "execute_result"
    }
   ],
   "source": [
    "master_df.sample(3)"
   ]
  },
  {
   "cell_type": "code",
   "execution_count": 8,
   "metadata": {},
   "outputs": [],
   "source": [
    "new_master = pandas.concat([master_df, new_data])"
   ]
  },
  {
   "cell_type": "code",
   "execution_count": 9,
   "metadata": {},
   "outputs": [
    {
     "data": {
      "text/plain": [
       "(2639, 324, 2963)"
      ]
     },
     "execution_count": 9,
     "metadata": {},
     "output_type": "execute_result"
    }
   ],
   "source": [
    "len(master_df), len(new_data), len(new_master)"
   ]
  },
  {
   "cell_type": "code",
   "execution_count": 10,
   "metadata": {},
   "outputs": [],
   "source": [
    "new_master.to_csv('data/master_df.csv')"
   ]
  }
 ],
 "metadata": {
  "kernelspec": {
   "display_name": "Python 3",
   "language": "python",
   "name": "python3"
  },
  "language_info": {
   "codemirror_mode": {
    "name": "ipython",
    "version": 3
   },
   "file_extension": ".py",
   "mimetype": "text/x-python",
   "name": "python",
   "nbconvert_exporter": "python",
   "pygments_lexer": "ipython3",
   "version": "3.7.4"
  }
 },
 "nbformat": 4,
 "nbformat_minor": 4
}
