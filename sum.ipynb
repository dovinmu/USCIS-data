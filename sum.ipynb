{
 "cells": [
  {
   "cell_type": "code",
   "execution_count": 1,
   "metadata": {},
   "outputs": [],
   "source": [
    "import pandas"
   ]
  },
  {
   "cell_type": "code",
   "execution_count": 5,
   "metadata": {},
   "outputs": [],
   "source": [
    "df = pandas.read_csv('data/master_df.csv', index_col=0)"
   ]
  },
  {
   "cell_type": "code",
   "execution_count": 12,
   "metadata": {},
   "outputs": [
    {
     "data": {
      "text/plain": [
       "('Anchorage', 'Alaska')"
      ]
     },
     "execution_count": 12,
     "metadata": {},
     "output_type": "execute_result"
    }
   ],
   "source": [
    "code_to_city = {}\n",
    "code_to_state = {}\n",
    "city_to_code = {}\n",
    "for i,entry in df.dropna(subset=['code']).iterrows():\n",
    "#     print(entry.field_office, entry.code)\n",
    "    code_to_city[entry.code.strip()] = entry.field_office.strip()\n",
    "    code_to_state[entry.code.strip()] = entry.state.strip()\n",
    "    city_to_code[entry.field_office.strip()] = entry.code.strip()\n",
    "    # discovered a few missing entries\n",
    "code_to_city['CSC'] = float('nan')\n",
    "code_to_state['CSC'] = 'California'\n",
    "\n",
    "code_to_city['NBC'] = 'National Benefits Center'\n",
    "code_to_state['NBC'] = float('nan')\n",
    "\n",
    "code_to_city['NSC'] = 'NEBRASKA SERVICE CENTER'\n",
    "code_to_state['NSC'] = 'Nebraska'\n",
    "\n",
    "code_to_city['VSC'] = 'VERMONT SERVICE CENTER'\n",
    "code_to_state['VSC'] = 'Vermont'\n",
    "\n",
    "code_to_city['TSC'] = 'TEXAS SERVICE CENTER'\n",
    "code_to_state['TSC'] = 'Texas'\n",
    "\n",
    "# don't know what this is, and it doesn't have a label\n",
    "code_to_city['GCU'] = \"Garden City\"\n",
    "code_to_state['GCU'] = \"New York\"\n",
    "\n",
    "code_to_city['ANC'], code_to_state['ANC']"
   ]
  },
  {
   "cell_type": "code",
   "execution_count": 13,
   "metadata": {},
   "outputs": [
    {
     "name": "stdout",
     "output_type": "stream",
     "text": [
      "2612\n"
     ]
    },
    {
     "data": {
      "text/html": [
       "<div>\n",
       "<style scoped>\n",
       "    .dataframe tbody tr th:only-of-type {\n",
       "        vertical-align: middle;\n",
       "    }\n",
       "\n",
       "    .dataframe tbody tr th {\n",
       "        vertical-align: top;\n",
       "    }\n",
       "\n",
       "    .dataframe thead th {\n",
       "        text-align: right;\n",
       "    }\n",
       "</style>\n",
       "<table border=\"1\" class=\"dataframe\">\n",
       "  <thead>\n",
       "    <tr style=\"text-align: right;\">\n",
       "      <th></th>\n",
       "      <th>field_office</th>\n",
       "      <th>Applications Received2</th>\n",
       "      <th>Approved3</th>\n",
       "      <th>Denied4</th>\n",
       "      <th>Pending5</th>\n",
       "      <th>quarter</th>\n",
       "      <th>state</th>\n",
       "      <th>code</th>\n",
       "      <th>year</th>\n",
       "      <th>fy</th>\n",
       "    </tr>\n",
       "  </thead>\n",
       "  <tbody>\n",
       "    <tr>\n",
       "      <th>229</th>\n",
       "      <td>Charleston</td>\n",
       "      <td>659</td>\n",
       "      <td>549</td>\n",
       "      <td>45</td>\n",
       "      <td>1,058</td>\n",
       "      <td>FY 2018, 4th Q, July 1-Sept. 30, 2018</td>\n",
       "      <td>South Carolina</td>\n",
       "      <td>CHS</td>\n",
       "      <td>2018.0</td>\n",
       "      <td>FY 2018</td>\n",
       "    </tr>\n",
       "    <tr>\n",
       "      <th>117</th>\n",
       "      <td>New Orleans</td>\n",
       "      <td>1,012</td>\n",
       "      <td>839</td>\n",
       "      <td>92</td>\n",
       "      <td>1,785</td>\n",
       "      <td>FY 2015, 4th Q, July 1-Sept. 30, 2015</td>\n",
       "      <td>Louisiana</td>\n",
       "      <td>NOL</td>\n",
       "      <td>2015.0</td>\n",
       "      <td>FY 2015</td>\n",
       "    </tr>\n",
       "    <tr>\n",
       "      <th>66</th>\n",
       "      <td>Detroit</td>\n",
       "      <td>740</td>\n",
       "      <td>7279</td>\n",
       "      <td>13</td>\n",
       "      <td>D</td>\n",
       "      <td>FY 2019, 4th Q, July 1- Sept. 30, 2019</td>\n",
       "      <td>Michigan</td>\n",
       "      <td>DET</td>\n",
       "      <td>NaN</td>\n",
       "      <td>FY 2019</td>\n",
       "    </tr>\n",
       "  </tbody>\n",
       "</table>\n",
       "</div>"
      ],
      "text/plain": [
       "    field_office Applications Received2 Approved3 Denied4 Pending5  \\\n",
       "229   Charleston                    659       549      45    1,058   \n",
       "117  New Orleans                  1,012       839      92    1,785   \n",
       "66       Detroit                    740      7279      13        D   \n",
       "\n",
       "                                    quarter           state code    year  \\\n",
       "229   FY 2018, 4th Q, July 1-Sept. 30, 2018  South Carolina  CHS  2018.0   \n",
       "117   FY 2015, 4th Q, July 1-Sept. 30, 2015       Louisiana  NOL  2015.0   \n",
       "66   FY 2019, 4th Q, July 1- Sept. 30, 2019        Michigan  DET     NaN   \n",
       "\n",
       "          fy  \n",
       "229  FY 2018  \n",
       "117  FY 2015  \n",
       "66   FY 2019  "
      ]
     },
     "execution_count": 13,
     "metadata": {},
     "output_type": "execute_result"
    }
   ],
   "source": [
    "print(len(df))\n",
    "df.sample(3)"
   ]
  },
  {
   "cell_type": "code",
   "execution_count": 14,
   "metadata": {},
   "outputs": [
    {
     "data": {
      "text/html": [
       "<div>\n",
       "<style scoped>\n",
       "    .dataframe tbody tr th:only-of-type {\n",
       "        vertical-align: middle;\n",
       "    }\n",
       "\n",
       "    .dataframe tbody tr th {\n",
       "        vertical-align: top;\n",
       "    }\n",
       "\n",
       "    .dataframe thead th {\n",
       "        text-align: right;\n",
       "    }\n",
       "</style>\n",
       "<table border=\"1\" class=\"dataframe\">\n",
       "  <thead>\n",
       "    <tr style=\"text-align: right;\">\n",
       "      <th></th>\n",
       "      <th></th>\n",
       "      <th>year</th>\n",
       "    </tr>\n",
       "    <tr>\n",
       "      <th>code</th>\n",
       "      <th>fy</th>\n",
       "      <th></th>\n",
       "    </tr>\n",
       "  </thead>\n",
       "  <tbody>\n",
       "    <tr>\n",
       "      <th rowspan=\"4\" valign=\"top\">1</th>\n",
       "      <th>FY 2016</th>\n",
       "      <td>2016.0</td>\n",
       "    </tr>\n",
       "    <tr>\n",
       "      <th>FY 2017</th>\n",
       "      <td>8067.0</td>\n",
       "    </tr>\n",
       "    <tr>\n",
       "      <th>FY 2018</th>\n",
       "      <td>8071.0</td>\n",
       "    </tr>\n",
       "    <tr>\n",
       "      <th>FY 2019</th>\n",
       "      <td>4037.0</td>\n",
       "    </tr>\n",
       "    <tr>\n",
       "      <th>14</th>\n",
       "      <th>FY 2016</th>\n",
       "      <td>2016.0</td>\n",
       "    </tr>\n",
       "    <tr>\n",
       "      <th>...</th>\n",
       "      <th>...</th>\n",
       "      <td>...</td>\n",
       "    </tr>\n",
       "    <tr>\n",
       "      <th rowspan=\"5\" valign=\"top\">YAK</th>\n",
       "      <th>FY 2016</th>\n",
       "      <td>8063.0</td>\n",
       "    </tr>\n",
       "    <tr>\n",
       "      <th>FY 2017</th>\n",
       "      <td>8067.0</td>\n",
       "    </tr>\n",
       "    <tr>\n",
       "      <th>FY 2018</th>\n",
       "      <td>8071.0</td>\n",
       "    </tr>\n",
       "    <tr>\n",
       "      <th>FY 2019</th>\n",
       "      <td>4037.0</td>\n",
       "    </tr>\n",
       "    <tr>\n",
       "      <th>FY 2020</th>\n",
       "      <td>0.0</td>\n",
       "    </tr>\n",
       "  </tbody>\n",
       "</table>\n",
       "<p>719 rows × 1 columns</p>\n",
       "</div>"
      ],
      "text/plain": [
       "                year\n",
       "code fy             \n",
       "1    FY 2016  2016.0\n",
       "     FY 2017  8067.0\n",
       "     FY 2018  8071.0\n",
       "     FY 2019  4037.0\n",
       "14   FY 2016  2016.0\n",
       "...              ...\n",
       "YAK  FY 2016  8063.0\n",
       "     FY 2017  8067.0\n",
       "     FY 2018  8071.0\n",
       "     FY 2019  4037.0\n",
       "     FY 2020     0.0\n",
       "\n",
       "[719 rows x 1 columns]"
      ]
     },
     "execution_count": 14,
     "metadata": {},
     "output_type": "execute_result"
    }
   ],
   "source": [
    "sum_df = df.dropna(subset=['code']).groupby(['code', 'fy']).sum()\n",
    "sum_df"
   ]
  },
  {
   "cell_type": "code",
   "execution_count": 15,
   "metadata": {},
   "outputs": [],
   "source": [
    "sum_df['field_office'] = sum_df.index.map(lambda tup: code_to_city[tup[0]])"
   ]
  },
  {
   "cell_type": "code",
   "execution_count": 16,
   "metadata": {},
   "outputs": [],
   "source": [
    "sum_df['state'] = sum_df.index.map(lambda tup: code_to_state[tup[0]])"
   ]
  },
  {
   "cell_type": "code",
   "execution_count": 17,
   "metadata": {},
   "outputs": [],
   "source": [
    "sum_df['nationality'] = sum_df.state.map(\n",
    "    lambda state: 'international' if state in ['United Kingdom', 'Italy', 'Germany', 'South Korea']\n",
    "                  else 'US (territory)' if state in ['Guam', 'U.S. Virgin Islands', 'Puerto Rico']\n",
    "                  else 'US'\n",
    ")"
   ]
  },
  {
   "cell_type": "code",
   "execution_count": 18,
   "metadata": {},
   "outputs": [],
   "source": [
    "sum_df[sum_df.nationality == 'US (territory)'].to_csv('data/sum_by_year_territory.csv')\n",
    "sum_df[sum_df.nationality == 'US'].sort_values(by=['state', 'field_office']).to_csv('data/sum_by_year.csv')\n",
    "sum_df[sum_df.nationality == 'international'].to_csv('data/sum_by_year_international.csv')"
   ]
  }
 ],
 "metadata": {
  "kernelspec": {
   "display_name": "Python 3",
   "language": "python",
   "name": "python3"
  },
  "language_info": {
   "codemirror_mode": {
    "name": "ipython",
    "version": 3
   },
   "file_extension": ".py",
   "mimetype": "text/x-python",
   "name": "python",
   "nbconvert_exporter": "python",
   "pygments_lexer": "ipython3",
   "version": "3.7.4"
  }
 },
 "nbformat": 4,
 "nbformat_minor": 4
}
